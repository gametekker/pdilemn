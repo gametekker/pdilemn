{
 "cells": [
  {
   "cell_type": "code",
   "execution_count": 11,
   "metadata": {},
   "outputs": [],
   "source": [
    "import numpy as np\n",
    "from modules.ManualTransitionMatrix import calculate_cumulative_reward, calculate_cumulative_reward_old, calculate_cumulative_reward_M\n",
    "from modules.monte_carlo_average import calculate_cumulative_reward_mc\n",
    "from modules.utility import create_structured_param_combinations\n",
    "import matplotlib.pyplot as plt\n",
    "\n",
    "# Define the probability transition matrix\n",
    "P = np.array([[0.25, 0.25, 0.25, 0.25],\n",
    "              [0.25, 0.25, 0.25, 0.25],\n",
    "              [0.25, 0.25, 0.25, 0.25],\n",
    "              [0.25, 0.25, 0.25, 0.25]])\n",
    "\n",
    "# P =  [p1*q1  p1*(1-q1)  (1-p1)q1  (1-p1)(1-q1)]\n",
    "#      [p2*q3  p2*(1-q3)  (1-p2)q3  (1-p2)(1-q3)]\n",
    "#      [p3*q2  p3*(1-q2)  (1-p3)q2  (1-p3)(1-q2)]\n",
    "#      [p4*q4  p4*(1-q4)  (1-p4)q4  (1-p4)(1-q4)]\n",
    "\n",
    "# Define the rewards and payoffs\n",
    "r1, r2 = 3, 3  # Reward for mutual cooperation\n",
    "t1, t2 = 5, 5  # Temptation payoff\n",
    "p1, p2 = 0, 0  # Punishment payoff\n",
    "s1, s2 = 1, 1  # Sucker's payoff\n",
    "gamma = 0.9,.6,.3,.2,.1    # Discount rate\n",
    "\n",
    "# Define the rewards matrix\n",
    "rewards_matrix = np.array([\n",
    "    [r1, r2],  # Payoffs for when both cooperate\n",
    "    [t1, p2],  # Payoffs for when one defects and the other cooperates\n",
    "    [p1, t2],  # Payoffs for when one defects and the other cooperates\n",
    "    [s1, s2]   # Payoffs for when both defect\n",
    "])\n",
    "\n",
    "cumulative_rewards_p0 = np.zeros(len(P))\n",
    "cumulative_rewards_p1 = np.zeros(len(P))"
   ]
  },
  {
   "cell_type": "code",
   "execution_count": 12,
   "metadata": {},
   "outputs": [
    {
     "name": "stdout",
     "output_type": "stream",
     "text": [
      "deterministic\n",
      "[[3.56249971 3.56249971]\n",
      " [5.56249971 0.56249971]\n",
      " [0.56249971 5.56249971]\n",
      " [1.56249971 1.56249971]]\n"
     ]
    }
   ],
   "source": [
    "print(\"deterministic\")\n",
    "\n",
    "params={\"rewards_matrix\":[rewards_matrix], \"P\":[P], \"state\":range(len(P)), \"player\":range(2), \"gamma\":[gamma[3]], \"maxd\":range(10,11)}\n",
    "outputs = create_structured_param_combinations(params, calculate_cumulative_reward)\n",
    "selected=outputs[0,0,:,:,0,0]\n",
    "print(selected)"
   ]
  },
  {
   "cell_type": "code",
   "execution_count": 13,
   "metadata": {},
   "outputs": [
    {
     "name": "stdout",
     "output_type": "stream",
     "text": [
      "now we attempt to optimize\n",
      "[[3.60767675 3.61571524]\n",
      " [5.60725959 0.61613228]\n",
      " [0.60830603 5.61508586]\n",
      " [1.60810179 1.61529014]]\n",
      "[[0.31559557 0.26862517 0.2751043  0.14067489]\n",
      " [0.3155949  0.2682083  0.2755218  0.14067496]\n",
      " [0.31559494 0.26925495 0.2744752  0.14067487]\n",
      " [0.31559578 0.26905015 0.27467898 0.14067502]]\n"
     ]
    }
   ],
   "source": [
    "print(\"now we attempt to optimize\")\n",
    "from modules.ManualTransitionOptimizers import optimize_transition_matrix\n",
    "P=optimize_transition_matrix(P,rewards_matrix,0,gamma[3],10,[0,1,2,3],lr=.01,epochs=1000)\n",
    "\n",
    "params={\"rewards_matrix\":[rewards_matrix], \"P\":[P], \"state\":range(len(P)), \"player\":range(2), \"gamma\":[gamma[3]], \"maxd\":range(10,11)}\n",
    "outputs = create_structured_param_combinations(params, calculate_cumulative_reward)\n",
    "selected=outputs[0,0,:,:,0,0]\n",
    "print(selected)\n",
    "print(P)"
   ]
  }
 ],
 "metadata": {
  "kernelspec": {
   "display_name": "base",
   "language": "python",
   "name": "python3"
  },
  "language_info": {
   "codemirror_mode": {
    "name": "ipython",
    "version": 3
   },
   "file_extension": ".py",
   "mimetype": "text/x-python",
   "name": "python",
   "nbconvert_exporter": "python",
   "pygments_lexer": "ipython3",
   "version": "3.10.6"
  }
 },
 "nbformat": 4,
 "nbformat_minor": 2
}
