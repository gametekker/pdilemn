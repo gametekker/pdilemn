{
 "cells": [
  {
   "cell_type": "code",
   "execution_count": 2,
   "metadata": {},
   "outputs": [
    {
     "name": "stdout",
     "output_type": "stream",
     "text": [
      "should be bad\n",
      "tensor([0.7211, 0.5125, 0.5125, 0.5125])\n",
      "model\n",
      "tensor([ 2.9444, -2.9444, -2.9444, -2.9444])\n",
      "pass: should be [0.95, 0.05, 0.05, 0.05]\n",
      "tensor([0.9500, 0.0500, 0.0500, 0.0500])\n"
     ]
    }
   ],
   "source": [
    "import torch\n",
    "# Desired probabilities after applying sigmoid\n",
    "probabilities = torch.tensor([0.95, 0.05, 0.05, 0.05])\n",
    "\n",
    "# Calculate the logit (inverse of sigmoid) of these probabilities\n",
    "# This will be the vector that gives the desired probabilities after applying sigmoid\n",
    "logits = torch.log(probabilities / (1 - probabilities))\n",
    "\n",
    "print(\"should be bad\")\n",
    "print(torch.sigmoid(probabilities))\n",
    "\n",
    "print(\"model\")\n",
    "print(logits)\n",
    "\n",
    "print(\"pass: should be [0.95, 0.05, 0.05, 0.05]\")\n",
    "print(torch.sigmoid(logits))"
   ]
  }
 ],
 "metadata": {
  "kernelspec": {
   "display_name": "base",
   "language": "python",
   "name": "python3"
  },
  "language_info": {
   "codemirror_mode": {
    "name": "ipython",
    "version": 3
   },
   "file_extension": ".py",
   "mimetype": "text/x-python",
   "name": "python",
   "nbconvert_exporter": "python",
   "pygments_lexer": "ipython3",
   "version": "3.10.6"
  }
 },
 "nbformat": 4,
 "nbformat_minor": 2
}
